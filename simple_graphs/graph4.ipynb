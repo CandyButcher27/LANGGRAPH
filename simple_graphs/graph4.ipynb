{
 "cells": [
  {
   "cell_type": "markdown",
   "id": "52838856",
   "metadata": {},
   "source": [
    "## Conditional Node"
   ]
  },
  {
   "cell_type": "code",
   "execution_count": 1,
   "id": "16cc7755",
   "metadata": {},
   "outputs": [],
   "source": [
    "from langgraph.graph import StateGraph , START , END\n",
    "from typing import TypedDict , List"
   ]
  },
  {
   "cell_type": "code",
   "execution_count": 2,
   "id": "ef393333",
   "metadata": {},
   "outputs": [],
   "source": [
    "class AgentState(TypedDict):\n",
    "    number_1:int\n",
    "    number_2:int\n",
    "    operation:str\n",
    "    final_num:int"
   ]
  },
  {
   "cell_type": "code",
   "execution_count": 3,
   "id": "1b9747d5",
   "metadata": {},
   "outputs": [],
   "source": [
    "def addition(state:AgentState)->AgentState:\n",
    "    \"\"\"Adds two numbers\"\"\"\n",
    "    state['final_num'] = state['number_1'] + state['number_2']\n",
    "    return state"
   ]
  },
  {
   "cell_type": "code",
   "execution_count": 4,
   "id": "beeee049",
   "metadata": {},
   "outputs": [],
   "source": [
    "def subtraction(state:AgentState)->AgentState:\n",
    "    \"\"\"Subtracts two numbers\"\"\"\n",
    "    state['final_num']= abs(state['number_1']-state['number_2'])\n",
    "    return state"
   ]
  },
  {
   "cell_type": "code",
   "execution_count": 5,
   "id": "a50bdadc",
   "metadata": {},
   "outputs": [],
   "source": [
    "def decide_next_node (state:AgentState)->str:\n",
    "    \"\"\"Decide the next node\"\"\"\n",
    "    if state['operation']=='+':\n",
    "        return \"addition_operation\"\n",
    "    elif state['operation']==\"-\":\n",
    "        return \"subtraction_operation\"\n",
    "    else : \n",
    "        return \"invalid operation\"\n"
   ]
  },
  {
   "cell_type": "code",
   "execution_count": 6,
   "id": "587bedbe",
   "metadata": {},
   "outputs": [
    {
     "data": {
      "text/plain": [
       "<langgraph.graph.state.StateGraph at 0x15236cc1850>"
      ]
     },
     "execution_count": 6,
     "metadata": {},
     "output_type": "execute_result"
    }
   ],
   "source": [
    "graph = StateGraph(AgentState)\n",
    "graph.add_node(\"router\" , lambda state:state)\n",
    "graph.add_node(\"adder\" , addition)\n",
    "graph.add_node(\"subtracter\" , subtraction)\n",
    "graph.add_edge(START , \"router\")\n",
    "graph.add_edge(\"adder\",END)\n",
    "graph.add_edge(\"subtracter\" , END)"
   ]
  },
  {
   "cell_type": "code",
   "execution_count": 7,
   "id": "397afb1e",
   "metadata": {},
   "outputs": [
    {
     "data": {
      "text/plain": [
       "<langgraph.graph.state.StateGraph at 0x15236cc1850>"
      ]
     },
     "execution_count": 7,
     "metadata": {},
     "output_type": "execute_result"
    }
   ],
   "source": [
    "graph.add_conditional_edges(\n",
    "    \"router\" ,\n",
    "    decide_next_node ,\n",
    "    {\n",
    "        \"addition_operation\" : \"adder\" ,\n",
    "        \"subtraction_operation\" : \"subtracter\",\n",
    "        \"invalid_operation\" : END\n",
    "    }\n",
    ")"
   ]
  },
  {
   "cell_type": "code",
   "execution_count": 8,
   "id": "cc762294",
   "metadata": {},
   "outputs": [
    {
     "data": {
      "image/png": "[encoded data removed]",
      "text/plain": [
       "<langgraph.graph.state.CompiledStateGraph object at 0x0000015236839880>"
      ]
     },
     "execution_count": 8,
     "metadata": {},
     "output_type": "execute_result"
    }
   ],
   "source": [
    "app = graph.compile()\n",
    "app"
   ]
  },
  {
   "cell_type": "code",
   "execution_count": null,
   "id": "24d72935",
   "metadata": {},
   "outputs": [
    {
     "data": {
      "text/plain": [
       "10"
      ]
     },
     "execution_count": 11,
     "metadata": {},
     "output_type": "execute_result"
    }
   ],
   "source": [
    "state = AgentState(number_1=10 , number_2=20 , operation=\"-\") #type:ignore\n",
    "app.invoke(state)['final_num'] #type:ignore"
   ]
  },
  {
   "cell_type": "code",
   "execution_count": null,
   "id": "5a47c8a8",
   "metadata": {},
   "outputs": [],
   "source": []
  }
 ],
 "metadata": {
  "kernelspec": {
   "display_name": ".venv",
   "language": "python",
   "name": "python3"
  },
  "language_info": {
   "codemirror_mode": {
    "name": "ipython",
    "version": 3
   },
   "file_extension": ".py",
   "mimetype": "text/x-python",
   "name": "python",
   "nbconvert_exporter": "python",
   "pygments_lexer": "ipython3",
   "version": "3.12.3"
  }
 },
 "nbformat": 4,
 "nbformat_minor": 5
}
