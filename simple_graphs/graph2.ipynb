{
 "cells": [
  {
   "cell_type": "markdown",
   "id": "6ee99936",
   "metadata": {},
   "source": [
    "## Graph with Multiple Inputs"
   ]
  },
  {
   "cell_type": "code",
   "execution_count": 3,
   "id": "29bde3ce",
   "metadata": {},
   "outputs": [],
   "source": [
    "from langgraph.graph import StateGraph\n",
    "from typing import TypedDict , List"
   ]
  },
  {
   "cell_type": "code",
   "execution_count": 4,
   "id": "228a2fb3",
   "metadata": {},
   "outputs": [],
   "source": [
    "class AgentState(TypedDict):\n",
    "    values : List[int]\n",
    "    name:str\n",
    "    result:str"
   ]
  },
  {
   "cell_type": "code",
   "execution_count": 5,
   "id": "b34124d4",
   "metadata": {},
   "outputs": [],
   "source": [
    "def process_values(state:AgentState)->AgentState:\n",
    "    '''This function handles multiple different values'''\n",
    "    state['result'] = f\"Hi there {state['name']} , your sum is {sum(state[\"values\"])}\"\n",
    "    return state"
   ]
  },
  {
   "cell_type": "code",
   "execution_count": 7,
   "id": "05379ee3",
   "metadata": {},
   "outputs": [],
   "source": [
    "graph = StateGraph(AgentState)\n",
    "graph.add_node(\"processor\" , process_values)\n",
    "graph.set_entry_point(\"processor\")\n",
    "graph.set_finish_point(\"processor\")\n",
    "app = graph.compile()"
   ]
  },
  {
   "cell_type": "code",
   "execution_count": null,
   "id": "83ca4bf4",
   "metadata": {},
   "outputs": [],
   "source": [
    "state1 = AgentState(name = \"Steve\" , values=[1,2,3,4]) #type:ignore"
   ]
  },
  {
   "cell_type": "code",
   "execution_count": 13,
   "id": "dcff98ca",
   "metadata": {},
   "outputs": [
    {
     "data": {
      "text/plain": [
       "'Hi there Steve , your sum is 10'"
      ]
     },
     "execution_count": 13,
     "metadata": {},
     "output_type": "execute_result"
    }
   ],
   "source": [
    "app.invoke(state1)[\"result\"]"
   ]
  },
  {
   "cell_type": "code",
   "execution_count": null,
   "id": "554781dd",
   "metadata": {},
   "outputs": [],
   "source": []
  }
 ],
 "metadata": {
  "kernelspec": {
   "display_name": ".venv",
   "language": "python",
   "name": "python3"
  },
  "language_info": {
   "codemirror_mode": {
    "name": "ipython",
    "version": 3
   },
   "file_extension": ".py",
   "mimetype": "text/x-python",
   "name": "python",
   "nbconvert_exporter": "python",
   "pygments_lexer": "ipython3",
   "version": "3.12.3"
  }
 },
 "nbformat": 4,
 "nbformat_minor": 5
}
